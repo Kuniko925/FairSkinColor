{
 "cells": [
  {
   "cell_type": "markdown",
   "id": "80b0b395-025d-409a-99c4-2a0a489f6060",
   "metadata": {},
   "source": [
    "# Dataset proprocessing"
   ]
  },
  {
   "cell_type": "code",
   "execution_count": 13,
   "id": "31472874-1dde-41c6-acbf-035f66c40d86",
   "metadata": {},
   "outputs": [
    {
     "name": "stdout",
     "output_type": "stream",
     "text": [
      "The autoreload extension is already loaded. To reload it, use:\n",
      "  %reload_ext autoreload\n"
     ]
    }
   ],
   "source": [
    "%load_ext autoreload\n",
    "%autoreload 2\n",
    "    \n",
    "import pandas as pd\n",
    "import cv2\n",
    "import mydata\n",
    "from preprocessing import HAM10000\n",
    "from skincolors import IndividualTypologyAngle\n",
    "from measure import MeasureSkin"
   ]
  },
  {
   "cell_type": "markdown",
   "id": "ee8d901b-1e49-4066-a4be-f9324f1df77c",
   "metadata": {},
   "source": [
    "## HAM10000"
   ]
  },
  {
   "cell_type": "code",
   "execution_count": 2,
   "id": "aa1dfd3d-74ef-4e9b-a840-5608752393e9",
   "metadata": {},
   "outputs": [],
   "source": [
    "db = \"HAM\"\n",
    "metafile = \"HAM10000_metadata.csv\"\n",
    "root = f\"../../dataset/AAAI 2025/{db}/\"\n",
    "df = pd.read_csv(root + metafile)"
   ]
  },
  {
   "cell_type": "code",
   "execution_count": 3,
   "id": "f73374b4-6bed-4c27-9f0a-30670ffa52bf",
   "metadata": {},
   "outputs": [
    {
     "name": "stdout",
     "output_type": "stream",
     "text": [
      "../../dataset/AAAI 2025/HAM/ham_segmentation/ISIC_0034313_segmentation.png\n",
      "../../dataset/AAAI 2025/HAM/ham_segmentation/ISIC_0034314_segmentation.png\n",
      "Completed to make masked files\n"
     ]
    }
   ],
   "source": [
    "seg_directory = f\"{root}ham_segmentation/\"\n",
    "save_directory = f\"{root}mask/\"\n",
    "\n",
    "ham = HAM10000(root, df)\n",
    "ham.update_dataset()\n",
    "ham.check_segmentation(seg_directory)\n",
    "df = ham.create_masked_image(save_directory)"
   ]
  },
  {
   "cell_type": "code",
   "execution_count": 4,
   "id": "f84f161b-a840-4a5c-982e-97142765b2bb",
   "metadata": {},
   "outputs": [
    {
     "name": "stderr",
     "output_type": "stream",
     "text": [
      "/home/kuniko/anaconda3/lib/python3.11/site-packages/numpy/lib/nanfunctions.py:1879: RuntimeWarning: Degrees of freedom <= 0 for slice.\n",
      "  var = nanvar(a, axis=axis, dtype=dtype, out=out, ddof=ddof,\n",
      "/home/kuniko/anaconda3/lib/python3.11/site-packages/derm_ita/ita_core_computations.py:75: RuntimeWarning: Mean of empty slice\n",
      "  mean = np.nanmean(l)\n",
      "/home/kuniko/anaconda3/lib/python3.11/site-packages/derm_ita/ita_core_computations.py:86: RuntimeWarning: Mean of empty slice\n",
      "  ita = math.atan2(np.nanmean(l) - 50, np.nanmean(b)) * (180 / np.pi)\n"
     ]
    }
   ],
   "source": [
    "ita_values = []\n",
    "skin_tones = []\n",
    "for _, d in df.iterrows():\n",
    "    img = cv2.imread(d[\"masked filepath\"])\n",
    "    rgb = cv2.cvtColor(img, cv2.COLOR_BGR2RGB)\n",
    "    \n",
    "    ita = IndividualTypologyAngle(rgb)\n",
    "    ita_value = ita.get_mean_ita()\n",
    "    ita_values.append(ita_value)\n",
    "    \n",
    "    skin_tone = ita.map_skin_tone(ita_value)\n",
    "    skin_tones.append(skin_tone)\n",
    "\n",
    "df[\"mean ita\"] = ita_values\n",
    "df[\"skin tone\"] = skin_tones"
   ]
  },
  {
   "cell_type": "code",
   "execution_count": 5,
   "id": "bed9b5db-311b-440d-b05d-0f632787f42d",
   "metadata": {},
   "outputs": [
    {
     "name": "stdout",
     "output_type": "stream",
     "text": [
      "skin tone\n",
      "1    6731\n",
      "2     608\n",
      "3     281\n",
      "4     143\n",
      "6      28\n",
      "5      25\n",
      "Name: count, dtype: int64\n"
     ]
    }
   ],
   "source": [
    "skin_tone_counts = df[\"skin tone\"].value_counts()\n",
    "print(skin_tone_counts)"
   ]
  },
  {
   "cell_type": "code",
   "execution_count": 6,
   "id": "c68b1718-4b9f-4918-9e78-d73715990f5d",
   "metadata": {},
   "outputs": [],
   "source": [
    "index = df[~df[\"skin tone\"].isin([\"1\"])].index\n",
    "df.drop(index=index, inplace=True)"
   ]
  },
  {
   "cell_type": "code",
   "execution_count": 7,
   "id": "936c7887-ec11-46ad-8673-3cdfba0b43ab",
   "metadata": {},
   "outputs": [
    {
     "name": "stdout",
     "output_type": "stream",
     "text": [
      "labels  skin tone\n",
      "0       1            5647\n",
      "1       1            1084\n",
      "dtype: int64\n",
      "1084\n"
     ]
    }
   ],
   "source": [
    "ham.override_dataset(df)\n",
    "ham.check_balance()"
   ]
  },
  {
   "cell_type": "code",
   "execution_count": 8,
   "id": "a0b95e55-5f8a-4f4e-9ab8-5193bcaf4699",
   "metadata": {},
   "outputs": [],
   "source": [
    "ham.override_dataset(df)\n",
    "df_balanced = ham.balance_dataset()"
   ]
  },
  {
   "cell_type": "code",
   "execution_count": 9,
   "id": "3de17037-7a62-4f93-874c-98c4f9973fc1",
   "metadata": {},
   "outputs": [
    {
     "name": "stdout",
     "output_type": "stream",
     "text": [
      "Final sizes - train: 1300 validation: 434 test: 434\n",
      "---train-------------\n",
      "labels\n",
      "0    650\n",
      "1    650\n",
      "dtype: int64\n",
      "---valid-------------\n",
      "labels\n",
      "0    217\n",
      "1    217\n",
      "dtype: int64\n",
      "---test-------------\n",
      "labels\n",
      "0    217\n",
      "1    217\n",
      "dtype: int64\n"
     ]
    }
   ],
   "source": [
    "df_train, df_valid, df_test = mydata.split_three_dataset(df_balanced)"
   ]
  },
  {
   "cell_type": "code",
   "execution_count": 10,
   "id": "6e0c3486-a79b-4893-b284-965c7689e000",
   "metadata": {},
   "outputs": [
    {
     "name": "stdout",
     "output_type": "stream",
     "text": [
      "labels  skin tone\n",
      "0       1            650\n",
      "1       1            650\n",
      "dtype: int64\n"
     ]
    }
   ],
   "source": [
    "print(df_train.groupby([\"labels\", \"skin tone\"]).size())"
   ]
  },
  {
   "cell_type": "code",
   "execution_count": 11,
   "id": "d6893315-bb4b-474d-9f7e-8ecc515bab8d",
   "metadata": {},
   "outputs": [],
   "source": [
    "df_train.to_csv(f\"{root}/dataframe/df_train.csv\", index=False)\n",
    "df_valid.to_csv(f\"{root}/dataframe/df_valid.csv\", index=False)\n",
    "df_test.to_csv(f\"{root}/dataframe/df_test.csv\", index=False)"
   ]
  },
  {
   "cell_type": "markdown",
   "id": "fb8ecc9f-d5e3-4d02-bb4f-907bf23194c6",
   "metadata": {},
   "source": [
    "# Measure Distance"
   ]
  },
  {
   "cell_type": "code",
   "execution_count": 14,
   "id": "e29bea94-aba9-45fb-9c30-71bc34d7d5fe",
   "metadata": {},
   "outputs": [
    {
     "name": "stdout",
     "output_type": "stream",
     "text": [
      "BaseLine File Name: ../../dataset/AAAI 2025/HAM/mask/ISIC_0029363.jpg\n",
      "Conventional ITA values: 73.92512124541418\n"
     ]
    }
   ],
   "source": [
    "ms = MeasureSkin()\n",
    "ms.select_baseline_skin(df_valid)"
   ]
  },
  {
   "cell_type": "code",
   "execution_count": 15,
   "id": "1e667c53-03b9-4d4e-bb25-e513e5d2c3ee",
   "metadata": {},
   "outputs": [
    {
     "name": "stdout",
     "output_type": "stream",
     "text": [
      "Completed: 1300\n",
      "Completed: 434\n",
      "Completed: 434\n"
     ]
    }
   ],
   "source": [
    "df_new_train = ms.measure(df_train)\n",
    "df_new_valid = ms.measure(df_valid)\n",
    "df_new_test = ms.measure(df_test)"
   ]
  },
  {
   "cell_type": "code",
   "execution_count": 16,
   "id": "42c84b48-baf2-46d7-a01b-ca296ceaf473",
   "metadata": {},
   "outputs": [],
   "source": [
    "df_new_train.to_csv(f\"{root}/dataframe/df_train.csv\", index=False)\n",
    "df_new_valid.to_csv(f\"{root}/dataframe/df_valid.csv\", index=False)\n",
    "df_new_test.to_csv(f\"{root}/dataframe/df_test.csv\", index=False)"
   ]
  },
  {
   "cell_type": "code",
   "execution_count": null,
   "id": "07a690c6-402d-4f56-b149-ef2119968fd2",
   "metadata": {},
   "outputs": [],
   "source": []
  }
 ],
 "metadata": {
  "kernelspec": {
   "display_name": "Python 3 (ipykernel)",
   "language": "python",
   "name": "python3"
  },
  "language_info": {
   "codemirror_mode": {
    "name": "ipython",
    "version": 3
   },
   "file_extension": ".py",
   "mimetype": "text/x-python",
   "name": "python",
   "nbconvert_exporter": "python",
   "pygments_lexer": "ipython3",
   "version": "3.11.7"
  }
 },
 "nbformat": 4,
 "nbformat_minor": 5
}
